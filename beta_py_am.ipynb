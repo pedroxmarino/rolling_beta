{
  "cells": [
    {
      "cell_type": "markdown",
      "metadata": {
        "id": "S5GoU1W8lcGs"
      },
      "source": [
        "## Modelo de Índice Único\n",
        "\n",
        "O retorno de uma ação pode ser escrito como:\n",
        "\n",
        "$$R_i = \\alpha_i + \\beta_i R_m + e_i$$\n",
        "\n",
        "- $R_i$: Retorno do ativo\n",
        "\n",
        "- $\\alpha_i$: Representa o valor esperado do retorno não oriundo do mercado\n",
        "\n",
        "- $R_m$: Retorno do índice de mercado\n",
        "\n",
        "- $\\beta_i$: mede a mudança esperada em R_i dada uma mudança em R_m\n",
        "\n",
        "- $e_i$: é o componente aleatório que afeta os retornos.\n",
        "\n",
        "## CAPM\n",
        "\n",
        "$$ E(R_i) = R_f + \\beta_i (E(R_m) - R_f) $$\n",
        "\n",
        "- $E(R_i)$: Retorno esperado do ativo.\n",
        "- $R_f$: Taxa livre de risco (geralmente baseada em títulos do governo).\n",
        "- $\\beta_i$: Coeficiente beta do ativo, que mede seu risco sistemático em relação ao mercado.\n",
        "- $E(R_m)$: Retorno esperado do mercado.\n",
        "- $E(R_m) - R_f$: Prêmio de risco de mercado.\n",
        "\n",
        "## Beta\n",
        "\n",
        "- Um ativo com $ \\beta = 1 $ é considerado tão volátil quanto o mercado. Isso significa que, em média, ele se move na mesma direção e na mesma proporção que o mercado.\n",
        "\n",
        "- Um ativo com $ \\beta > 1 $ é considerado mais volátil que o mercado. Isso significa que, em média, ele tende a ter movimentos maiores do que o mercado.\n",
        "\n",
        "- Um ativo com $ \\beta < 1 $ é considerado menos volátil que o mercado. Isso significa que, em média, ele tende a ter movimentos menores do que o mercado.\n",
        "\n",
        "- Um ativo com $ \\beta = 0 $ é considerado não relacionado ao mercado. Isso significa que seus retornos são independentes dos movimentos do mercado."
      ]
    },
    {
      "cell_type": "markdown",
      "metadata": {
        "id": "DydrSz4Kgu2q"
      },
      "source": [
        "# Bibliotecas"
      ]
    },
    {
      "cell_type": "code",
      "execution_count": 1,
      "metadata": {
        "id": "u-gnFzb_txYj"
      },
      "outputs": [
        {
          "name": "stdout",
          "output_type": "stream",
          "text": [
            "Requirement already satisfied: python-bcb in c:\\users\\pedro\\anaconda3\\lib\\site-packages (0.1.8)\n",
            "Requirement already satisfied: requests<3.0.0,>=2.28.1 in c:\\users\\pedro\\anaconda3\\lib\\site-packages (from python-bcb) (2.31.0)\n",
            "Requirement already satisfied: httpx<0.24.0,>=0.23.0 in c:\\users\\pedro\\anaconda3\\lib\\site-packages (from python-bcb) (0.23.3)\n",
            "Requirement already satisfied: pandas<2.0.0,>=1.4.4 in c:\\users\\pedro\\anaconda3\\lib\\site-packages (from python-bcb) (1.5.3)\n",
            "Requirement already satisfied: lxml<5.0.0,>=4.9.1 in c:\\users\\pedro\\anaconda3\\lib\\site-packages (from python-bcb) (4.9.1)\n",
            "Requirement already satisfied: sniffio in c:\\users\\pedro\\anaconda3\\lib\\site-packages (from httpx<0.24.0,>=0.23.0->python-bcb) (1.2.0)\n",
            "Requirement already satisfied: certifi in c:\\users\\pedro\\anaconda3\\lib\\site-packages (from httpx<0.24.0,>=0.23.0->python-bcb) (2022.12.7)\n",
            "Requirement already satisfied: rfc3986[idna2008]<2,>=1.3 in c:\\users\\pedro\\anaconda3\\lib\\site-packages (from httpx<0.24.0,>=0.23.0->python-bcb) (1.5.0)\n",
            "Requirement already satisfied: httpcore<0.17.0,>=0.15.0 in c:\\users\\pedro\\anaconda3\\lib\\site-packages (from httpx<0.24.0,>=0.23.0->python-bcb) (0.16.3)\n",
            "Requirement already satisfied: numpy>=1.20.3 in c:\\users\\pedro\\anaconda3\\lib\\site-packages (from pandas<2.0.0,>=1.4.4->python-bcb) (1.26.4)\n",
            "Requirement already satisfied: pytz>=2020.1 in c:\\users\\pedro\\anaconda3\\lib\\site-packages (from pandas<2.0.0,>=1.4.4->python-bcb) (2022.7)\n",
            "Requirement already satisfied: python-dateutil>=2.8.1 in c:\\users\\pedro\\anaconda3\\lib\\site-packages (from pandas<2.0.0,>=1.4.4->python-bcb) (2.8.2)\n",
            "Requirement already satisfied: charset-normalizer<4,>=2 in c:\\users\\pedro\\anaconda3\\lib\\site-packages (from requests<3.0.0,>=2.28.1->python-bcb) (2.0.4)\n",
            "Requirement already satisfied: idna<4,>=2.5 in c:\\users\\pedro\\anaconda3\\lib\\site-packages (from requests<3.0.0,>=2.28.1->python-bcb) (3.4)\n",
            "Requirement already satisfied: urllib3<3,>=1.21.1 in c:\\users\\pedro\\anaconda3\\lib\\site-packages (from requests<3.0.0,>=2.28.1->python-bcb) (1.26.14)\n",
            "Requirement already satisfied: h11<0.15,>=0.13 in c:\\users\\pedro\\anaconda3\\lib\\site-packages (from httpcore<0.17.0,>=0.15.0->httpx<0.24.0,>=0.23.0->python-bcb) (0.14.0)\n",
            "Requirement already satisfied: anyio<5.0,>=3.0 in c:\\users\\pedro\\anaconda3\\lib\\site-packages (from httpcore<0.17.0,>=0.15.0->httpx<0.24.0,>=0.23.0->python-bcb) (3.5.0)\n",
            "Requirement already satisfied: six>=1.5 in c:\\users\\pedro\\anaconda3\\lib\\site-packages (from python-dateutil>=2.8.1->pandas<2.0.0,>=1.4.4->python-bcb) (1.16.0)\n"
          ]
        },
        {
          "name": "stderr",
          "output_type": "stream",
          "text": [
            "WARNING: Ignoring invalid distribution -atplotlib (c:\\users\\pedro\\anaconda3\\lib\\site-packages)\n",
            "WARNING: Ignoring invalid distribution -atplotlib (c:\\users\\pedro\\anaconda3\\lib\\site-packages)\n",
            "WARNING: Ignoring invalid distribution -atplotlib (c:\\users\\pedro\\anaconda3\\lib\\site-packages)\n",
            "WARNING: Ignoring invalid distribution -atplotlib (c:\\users\\pedro\\anaconda3\\lib\\site-packages)\n",
            "WARNING: Ignoring invalid distribution -atplotlib (c:\\users\\pedro\\anaconda3\\lib\\site-packages)\n",
            "WARNING: Ignoring invalid distribution -atplotlib (c:\\users\\pedro\\anaconda3\\lib\\site-packages)\n"
          ]
        }
      ],
      "source": [
        "!pip install python-bcb"
      ]
    },
    {
      "cell_type": "code",
      "execution_count": 24,
      "metadata": {
        "id": "8MZHc9p3tvo9"
      },
      "outputs": [],
      "source": [
        "from bcb import sgs\n",
        "import yfinance as yf\n",
        "import pandas as pd\n",
        "import numpy as np\n",
        "import statsmodels.formula.api as smf\n",
        "from statsmodels.regression.rolling import RollingOLS\n",
        "\n",
        "## Gráficos\n",
        "from plotnine import *\n",
        "from mizani.breaks import date_breaks\n",
        "from mizani.formatters import date_format\n",
        "import matplotlib.pyplot as plt"
      ]
    },
    {
      "cell_type": "code",
      "execution_count": 3,
      "metadata": {
        "id": "zcyJYgIlvCZr"
      },
      "outputs": [],
      "source": [
        "start = '2014-01-01' # início\n",
        "end = '2024-05-14' # fim"
      ]
    },
    {
      "cell_type": "markdown",
      "metadata": {
        "id": "UiJMnjzGr5Lb"
      },
      "source": [
        "# CDI"
      ]
    },
    {
      "cell_type": "code",
      "execution_count": 5,
      "metadata": {
        "id": "PnW4jHy1lavE"
      },
      "outputs": [],
      "source": [
        "# CDI acumulada no mês (%a.m)\n",
        "cdi_m = sgs.get({'cdi' : 4391}, start = start)"
      ]
    },
    {
      "cell_type": "code",
      "execution_count": 6,
      "metadata": {
        "colab": {
          "base_uri": "https://localhost:8080/",
          "height": 455
        },
        "id": "THqsMCfyyT3y",
        "outputId": "83bd5a87-4787-43d3-ae22-8b995fde1214"
      },
      "outputs": [
        {
          "data": {
            "text/html": [
              "<div>\n",
              "<style scoped>\n",
              "    .dataframe tbody tr th:only-of-type {\n",
              "        vertical-align: middle;\n",
              "    }\n",
              "\n",
              "    .dataframe tbody tr th {\n",
              "        vertical-align: top;\n",
              "    }\n",
              "\n",
              "    .dataframe thead th {\n",
              "        text-align: right;\n",
              "    }\n",
              "</style>\n",
              "<table border=\"1\" class=\"dataframe\">\n",
              "  <thead>\n",
              "    <tr style=\"text-align: right;\">\n",
              "      <th></th>\n",
              "      <th>cdi</th>\n",
              "    </tr>\n",
              "    <tr>\n",
              "      <th>Date</th>\n",
              "      <th></th>\n",
              "    </tr>\n",
              "  </thead>\n",
              "  <tbody>\n",
              "    <tr>\n",
              "      <th>2014-01-01</th>\n",
              "      <td>0.84</td>\n",
              "    </tr>\n",
              "    <tr>\n",
              "      <th>2014-02-01</th>\n",
              "      <td>0.78</td>\n",
              "    </tr>\n",
              "    <tr>\n",
              "      <th>2014-03-01</th>\n",
              "      <td>0.76</td>\n",
              "    </tr>\n",
              "    <tr>\n",
              "      <th>2014-04-01</th>\n",
              "      <td>0.82</td>\n",
              "    </tr>\n",
              "    <tr>\n",
              "      <th>2014-05-01</th>\n",
              "      <td>0.86</td>\n",
              "    </tr>\n",
              "    <tr>\n",
              "      <th>...</th>\n",
              "      <td>...</td>\n",
              "    </tr>\n",
              "    <tr>\n",
              "      <th>2024-01-01</th>\n",
              "      <td>0.97</td>\n",
              "    </tr>\n",
              "    <tr>\n",
              "      <th>2024-02-01</th>\n",
              "      <td>0.80</td>\n",
              "    </tr>\n",
              "    <tr>\n",
              "      <th>2024-03-01</th>\n",
              "      <td>0.83</td>\n",
              "    </tr>\n",
              "    <tr>\n",
              "      <th>2024-04-01</th>\n",
              "      <td>0.89</td>\n",
              "    </tr>\n",
              "    <tr>\n",
              "      <th>2024-05-01</th>\n",
              "      <td>0.40</td>\n",
              "    </tr>\n",
              "  </tbody>\n",
              "</table>\n",
              "<p>125 rows × 1 columns</p>\n",
              "</div>"
            ],
            "text/plain": [
              "             cdi\n",
              "Date            \n",
              "2014-01-01  0.84\n",
              "2014-02-01  0.78\n",
              "2014-03-01  0.76\n",
              "2014-04-01  0.82\n",
              "2014-05-01  0.86\n",
              "...          ...\n",
              "2024-01-01  0.97\n",
              "2024-02-01  0.80\n",
              "2024-03-01  0.83\n",
              "2024-04-01  0.89\n",
              "2024-05-01  0.40\n",
              "\n",
              "[125 rows x 1 columns]"
            ]
          },
          "execution_count": 6,
          "metadata": {},
          "output_type": "execute_result"
        }
      ],
      "source": [
        "cdi_m"
      ]
    },
    {
      "cell_type": "markdown",
      "metadata": {
        "id": "-lutkwx6r6hj"
      },
      "source": [
        "# Retorno do Ibovespa"
      ]
    },
    {
      "cell_type": "code",
      "execution_count": 7,
      "metadata": {
        "colab": {
          "base_uri": "https://localhost:8080/"
        },
        "id": "WxM5Bvsot_Lj",
        "outputId": "406bfeb7-35fa-4284-f1f7-00d59a4603fd"
      },
      "outputs": [
        {
          "name": "stderr",
          "output_type": "stream",
          "text": [
            "[*********************100%%**********************]  1 of 1 completed\n"
          ]
        }
      ],
      "source": [
        "# Preços Históricos\n",
        "precos = yf.download('^BVSP', start = start, end = end, interval = '1mo')\n",
        "\n",
        "# Calcula Retornos Mensais\n",
        "returns = (\n",
        "          precos[['Adj Close']]\n",
        "          .pct_change()\n",
        "          .rename(columns = {'Adj Close' : 'retornos_ibov'})\n",
        "          .dropna()\n",
        "          )"
      ]
    },
    {
      "cell_type": "code",
      "execution_count": 8,
      "metadata": {
        "colab": {
          "base_uri": "https://localhost:8080/",
          "height": 455
        },
        "id": "LU71iIiLyjFJ",
        "outputId": "7204a8e7-0a91-4837-9634-ae7c0f66badf"
      },
      "outputs": [
        {
          "data": {
            "text/html": [
              "<div>\n",
              "<style scoped>\n",
              "    .dataframe tbody tr th:only-of-type {\n",
              "        vertical-align: middle;\n",
              "    }\n",
              "\n",
              "    .dataframe tbody tr th {\n",
              "        vertical-align: top;\n",
              "    }\n",
              "\n",
              "    .dataframe thead th {\n",
              "        text-align: right;\n",
              "    }\n",
              "</style>\n",
              "<table border=\"1\" class=\"dataframe\">\n",
              "  <thead>\n",
              "    <tr style=\"text-align: right;\">\n",
              "      <th></th>\n",
              "      <th>retornos_ibov</th>\n",
              "    </tr>\n",
              "    <tr>\n",
              "      <th>Date</th>\n",
              "      <th></th>\n",
              "    </tr>\n",
              "  </thead>\n",
              "  <tbody>\n",
              "    <tr>\n",
              "      <th>2014-02-01</th>\n",
              "      <td>-0.011440</td>\n",
              "    </tr>\n",
              "    <tr>\n",
              "      <th>2014-03-01</th>\n",
              "      <td>0.070519</td>\n",
              "    </tr>\n",
              "    <tr>\n",
              "      <th>2014-04-01</th>\n",
              "      <td>0.024021</td>\n",
              "    </tr>\n",
              "    <tr>\n",
              "      <th>2014-05-01</th>\n",
              "      <td>-0.007496</td>\n",
              "    </tr>\n",
              "    <tr>\n",
              "      <th>2014-06-01</th>\n",
              "      <td>0.037647</td>\n",
              "    </tr>\n",
              "    <tr>\n",
              "      <th>...</th>\n",
              "      <td>...</td>\n",
              "    </tr>\n",
              "    <tr>\n",
              "      <th>2024-01-01</th>\n",
              "      <td>-0.047941</td>\n",
              "    </tr>\n",
              "    <tr>\n",
              "      <th>2024-02-01</th>\n",
              "      <td>0.009925</td>\n",
              "    </tr>\n",
              "    <tr>\n",
              "      <th>2024-03-01</th>\n",
              "      <td>-0.007084</td>\n",
              "    </tr>\n",
              "    <tr>\n",
              "      <th>2024-04-01</th>\n",
              "      <td>-0.017033</td>\n",
              "    </tr>\n",
              "    <tr>\n",
              "      <th>2024-05-01</th>\n",
              "      <td>0.016708</td>\n",
              "    </tr>\n",
              "  </tbody>\n",
              "</table>\n",
              "<p>124 rows × 1 columns</p>\n",
              "</div>"
            ],
            "text/plain": [
              "            retornos_ibov\n",
              "Date                     \n",
              "2014-02-01      -0.011440\n",
              "2014-03-01       0.070519\n",
              "2014-04-01       0.024021\n",
              "2014-05-01      -0.007496\n",
              "2014-06-01       0.037647\n",
              "...                   ...\n",
              "2024-01-01      -0.047941\n",
              "2024-02-01       0.009925\n",
              "2024-03-01      -0.007084\n",
              "2024-04-01      -0.017033\n",
              "2024-05-01       0.016708\n",
              "\n",
              "[124 rows x 1 columns]"
            ]
          },
          "execution_count": 8,
          "metadata": {},
          "output_type": "execute_result"
        }
      ],
      "source": [
        "returns"
      ]
    },
    {
      "cell_type": "code",
      "execution_count": 9,
      "metadata": {
        "id": "xfeIp5kPuXir"
      },
      "outputs": [],
      "source": [
        "# Junta os data frames\n",
        "returns_rf =  (\n",
        "    returns.merge(cdi_m, left_index = True, right_index = True)\n",
        "    .assign(cdi = lambda x: x.cdi / 100)\n",
        "    )"
      ]
    },
    {
      "cell_type": "code",
      "execution_count": 10,
      "metadata": {
        "colab": {
          "base_uri": "https://localhost:8080/",
          "height": 455
        },
        "id": "uEcqYCzjytii",
        "outputId": "8b57af05-a3ee-45ab-d027-0d1edd19faa7"
      },
      "outputs": [
        {
          "data": {
            "text/html": [
              "<div>\n",
              "<style scoped>\n",
              "    .dataframe tbody tr th:only-of-type {\n",
              "        vertical-align: middle;\n",
              "    }\n",
              "\n",
              "    .dataframe tbody tr th {\n",
              "        vertical-align: top;\n",
              "    }\n",
              "\n",
              "    .dataframe thead th {\n",
              "        text-align: right;\n",
              "    }\n",
              "</style>\n",
              "<table border=\"1\" class=\"dataframe\">\n",
              "  <thead>\n",
              "    <tr style=\"text-align: right;\">\n",
              "      <th></th>\n",
              "      <th>retornos_ibov</th>\n",
              "      <th>cdi</th>\n",
              "    </tr>\n",
              "    <tr>\n",
              "      <th>Date</th>\n",
              "      <th></th>\n",
              "      <th></th>\n",
              "    </tr>\n",
              "  </thead>\n",
              "  <tbody>\n",
              "    <tr>\n",
              "      <th>2014-02-01</th>\n",
              "      <td>-0.011440</td>\n",
              "      <td>0.0078</td>\n",
              "    </tr>\n",
              "    <tr>\n",
              "      <th>2014-03-01</th>\n",
              "      <td>0.070519</td>\n",
              "      <td>0.0076</td>\n",
              "    </tr>\n",
              "    <tr>\n",
              "      <th>2014-04-01</th>\n",
              "      <td>0.024021</td>\n",
              "      <td>0.0082</td>\n",
              "    </tr>\n",
              "    <tr>\n",
              "      <th>2014-05-01</th>\n",
              "      <td>-0.007496</td>\n",
              "      <td>0.0086</td>\n",
              "    </tr>\n",
              "    <tr>\n",
              "      <th>2014-06-01</th>\n",
              "      <td>0.037647</td>\n",
              "      <td>0.0082</td>\n",
              "    </tr>\n",
              "    <tr>\n",
              "      <th>...</th>\n",
              "      <td>...</td>\n",
              "      <td>...</td>\n",
              "    </tr>\n",
              "    <tr>\n",
              "      <th>2024-01-01</th>\n",
              "      <td>-0.047941</td>\n",
              "      <td>0.0097</td>\n",
              "    </tr>\n",
              "    <tr>\n",
              "      <th>2024-02-01</th>\n",
              "      <td>0.009925</td>\n",
              "      <td>0.0080</td>\n",
              "    </tr>\n",
              "    <tr>\n",
              "      <th>2024-03-01</th>\n",
              "      <td>-0.007084</td>\n",
              "      <td>0.0083</td>\n",
              "    </tr>\n",
              "    <tr>\n",
              "      <th>2024-04-01</th>\n",
              "      <td>-0.017033</td>\n",
              "      <td>0.0089</td>\n",
              "    </tr>\n",
              "    <tr>\n",
              "      <th>2024-05-01</th>\n",
              "      <td>0.016708</td>\n",
              "      <td>0.0040</td>\n",
              "    </tr>\n",
              "  </tbody>\n",
              "</table>\n",
              "<p>124 rows × 2 columns</p>\n",
              "</div>"
            ],
            "text/plain": [
              "            retornos_ibov     cdi\n",
              "Date                             \n",
              "2014-02-01      -0.011440  0.0078\n",
              "2014-03-01       0.070519  0.0076\n",
              "2014-04-01       0.024021  0.0082\n",
              "2014-05-01      -0.007496  0.0086\n",
              "2014-06-01       0.037647  0.0082\n",
              "...                   ...     ...\n",
              "2024-01-01      -0.047941  0.0097\n",
              "2024-02-01       0.009925  0.0080\n",
              "2024-03-01      -0.007084  0.0083\n",
              "2024-04-01      -0.017033  0.0089\n",
              "2024-05-01       0.016708  0.0040\n",
              "\n",
              "[124 rows x 2 columns]"
            ]
          },
          "execution_count": 10,
          "metadata": {},
          "output_type": "execute_result"
        }
      ],
      "source": [
        "returns_rf"
      ]
    },
    {
      "cell_type": "markdown",
      "metadata": {
        "id": "BchBWMSUr9nD"
      },
      "source": [
        "# Ativo"
      ]
    },
    {
      "cell_type": "code",
      "execution_count": 11,
      "metadata": {
        "colab": {
          "base_uri": "https://localhost:8080/",
          "height": 255
        },
        "id": "Ca12BjrauPxz",
        "outputId": "fcbfde45-372d-4185-c4b8-87cd4d195213"
      },
      "outputs": [
        {
          "name": "stderr",
          "output_type": "stream",
          "text": [
            "[*********************100%%**********************]  4 of 4 completed\n"
          ]
        },
        {
          "data": {
            "text/html": [
              "<div>\n",
              "<style scoped>\n",
              "    .dataframe tbody tr th:only-of-type {\n",
              "        vertical-align: middle;\n",
              "    }\n",
              "\n",
              "    .dataframe tbody tr th {\n",
              "        vertical-align: top;\n",
              "    }\n",
              "\n",
              "    .dataframe thead th {\n",
              "        text-align: right;\n",
              "    }\n",
              "</style>\n",
              "<table border=\"1\" class=\"dataframe\">\n",
              "  <thead>\n",
              "    <tr style=\"text-align: right;\">\n",
              "      <th></th>\n",
              "      <th>BBDC4.SA</th>\n",
              "      <th>ITSA4.SA</th>\n",
              "      <th>VALE3.SA</th>\n",
              "      <th>WEGE3.SA</th>\n",
              "    </tr>\n",
              "    <tr>\n",
              "      <th>Date</th>\n",
              "      <th></th>\n",
              "      <th></th>\n",
              "      <th></th>\n",
              "      <th></th>\n",
              "    </tr>\n",
              "  </thead>\n",
              "  <tbody>\n",
              "    <tr>\n",
              "      <th>2014-02-01</th>\n",
              "      <td>0.043960</td>\n",
              "      <td>0.009941</td>\n",
              "      <td>-0.001513</td>\n",
              "      <td>0.116424</td>\n",
              "    </tr>\n",
              "    <tr>\n",
              "      <th>2014-03-01</th>\n",
              "      <td>0.152413</td>\n",
              "      <td>0.092090</td>\n",
              "      <td>-0.047879</td>\n",
              "      <td>0.045728</td>\n",
              "    </tr>\n",
              "    <tr>\n",
              "      <th>2014-04-01</th>\n",
              "      <td>0.065903</td>\n",
              "      <td>0.059173</td>\n",
              "      <td>-0.059516</td>\n",
              "      <td>0.106488</td>\n",
              "    </tr>\n",
              "    <tr>\n",
              "      <th>2014-05-01</th>\n",
              "      <td>-0.059888</td>\n",
              "      <td>-0.038343</td>\n",
              "      <td>-0.009714</td>\n",
              "      <td>-0.033445</td>\n",
              "    </tr>\n",
              "    <tr>\n",
              "      <th>2014-06-01</th>\n",
              "      <td>0.027543</td>\n",
              "      <td>0.016374</td>\n",
              "      <td>0.027407</td>\n",
              "      <td>0.087659</td>\n",
              "    </tr>\n",
              "  </tbody>\n",
              "</table>\n",
              "</div>"
            ],
            "text/plain": [
              "            BBDC4.SA  ITSA4.SA  VALE3.SA  WEGE3.SA\n",
              "Date                                              \n",
              "2014-02-01  0.043960  0.009941 -0.001513  0.116424\n",
              "2014-03-01  0.152413  0.092090 -0.047879  0.045728\n",
              "2014-04-01  0.065903  0.059173 -0.059516  0.106488\n",
              "2014-05-01 -0.059888 -0.038343 -0.009714 -0.033445\n",
              "2014-06-01  0.027543  0.016374  0.027407  0.087659"
            ]
          },
          "execution_count": 11,
          "metadata": {},
          "output_type": "execute_result"
        }
      ],
      "source": [
        "# Tickers dos ativos\n",
        "assets = ['BBDC4.SA', 'ITSA4.SA', 'VALE3.SA', 'WEGE3.SA']\n",
        "\n",
        "# Baixa os dados (dados mensais)\n",
        "precos_ativos = yf.download(assets, start = start, end = end, interval = '1mo')\n",
        "precos_ativos = precos_ativos.loc[:,('Adj Close', slice(None))]\n",
        "precos_ativos.columns = assets\n",
        "\n",
        "# Calculando os retornos\n",
        "Y = precos_ativos[assets].pct_change().dropna()\n",
        "\n",
        "# Verifica os retornos\n",
        "Y.head()"
      ]
    },
    {
      "cell_type": "code",
      "execution_count": 12,
      "metadata": {
        "colab": {
          "base_uri": "https://localhost:8080/"
        },
        "id": "Yl8PLdHNuFRb",
        "outputId": "5934909b-2d40-4a3d-cb91-a75d72554360"
      },
      "outputs": [
        {
          "data": {
            "text/plain": [
              "[0.25, 0.25, 0.25, 0.25]"
            ]
          },
          "execution_count": 12,
          "metadata": {},
          "output_type": "execute_result"
        }
      ],
      "source": [
        "# Número de ativos\n",
        "num_ativos = len(Y.columns)\n",
        "\n",
        "# Calcula pesos iguais\n",
        "peso_por_ativo = 1.0 / num_ativos\n",
        "ewp = [peso_por_ativo] * num_ativos\n",
        "\n",
        "# Pesos\n",
        "ewp"
      ]
    },
    {
      "cell_type": "code",
      "execution_count": 13,
      "metadata": {
        "colab": {
          "base_uri": "https://localhost:8080/",
          "height": 455
        },
        "id": "o41OPme9zKOL",
        "outputId": "a671fff2-e4d7-4b63-cd43-4ca715d89b31"
      },
      "outputs": [
        {
          "data": {
            "text/html": [
              "<div>\n",
              "<style scoped>\n",
              "    .dataframe tbody tr th:only-of-type {\n",
              "        vertical-align: middle;\n",
              "    }\n",
              "\n",
              "    .dataframe tbody tr th {\n",
              "        vertical-align: top;\n",
              "    }\n",
              "\n",
              "    .dataframe thead th {\n",
              "        text-align: right;\n",
              "    }\n",
              "</style>\n",
              "<table border=\"1\" class=\"dataframe\">\n",
              "  <thead>\n",
              "    <tr style=\"text-align: right;\">\n",
              "      <th></th>\n",
              "      <th>portfolio_ewp</th>\n",
              "    </tr>\n",
              "    <tr>\n",
              "      <th>Date</th>\n",
              "      <th></th>\n",
              "    </tr>\n",
              "  </thead>\n",
              "  <tbody>\n",
              "    <tr>\n",
              "      <th>2014-02-01</th>\n",
              "      <td>0.042203</td>\n",
              "    </tr>\n",
              "    <tr>\n",
              "      <th>2014-03-01</th>\n",
              "      <td>0.060588</td>\n",
              "    </tr>\n",
              "    <tr>\n",
              "      <th>2014-04-01</th>\n",
              "      <td>0.043012</td>\n",
              "    </tr>\n",
              "    <tr>\n",
              "      <th>2014-05-01</th>\n",
              "      <td>-0.035347</td>\n",
              "    </tr>\n",
              "    <tr>\n",
              "      <th>2014-06-01</th>\n",
              "      <td>0.039746</td>\n",
              "    </tr>\n",
              "    <tr>\n",
              "      <th>...</th>\n",
              "      <td>...</td>\n",
              "    </tr>\n",
              "    <tr>\n",
              "      <th>2024-01-01</th>\n",
              "      <td>-0.086114</td>\n",
              "    </tr>\n",
              "    <tr>\n",
              "      <th>2024-02-01</th>\n",
              "      <td>0.012482</td>\n",
              "    </tr>\n",
              "    <tr>\n",
              "      <th>2024-03-01</th>\n",
              "      <td>0.011251</td>\n",
              "    </tr>\n",
              "    <tr>\n",
              "      <th>2024-04-01</th>\n",
              "      <td>0.006397</td>\n",
              "    </tr>\n",
              "    <tr>\n",
              "      <th>2024-05-01</th>\n",
              "      <td>0.011193</td>\n",
              "    </tr>\n",
              "  </tbody>\n",
              "</table>\n",
              "<p>124 rows × 1 columns</p>\n",
              "</div>"
            ],
            "text/plain": [
              "            portfolio_ewp\n",
              "Date                     \n",
              "2014-02-01       0.042203\n",
              "2014-03-01       0.060588\n",
              "2014-04-01       0.043012\n",
              "2014-05-01      -0.035347\n",
              "2014-06-01       0.039746\n",
              "...                   ...\n",
              "2024-01-01      -0.086114\n",
              "2024-02-01       0.012482\n",
              "2024-03-01       0.011251\n",
              "2024-04-01       0.006397\n",
              "2024-05-01       0.011193\n",
              "\n",
              "[124 rows x 1 columns]"
            ]
          },
          "execution_count": 13,
          "metadata": {},
          "output_type": "execute_result"
        }
      ],
      "source": [
        "# Calcula o retorno do portfólio\n",
        "portfolio_returns_ewp = pd.DataFrame((Y * ewp).sum(axis = 1), columns = ['portfolio_ewp'])\n",
        "portfolio_returns_ewp"
      ]
    },
    {
      "cell_type": "code",
      "execution_count": 14,
      "metadata": {
        "colab": {
          "base_uri": "https://localhost:8080/",
          "height": 238
        },
        "id": "ubar7bs8uJLL",
        "outputId": "0aff9da5-7198-4ae0-cda2-d8d21ba1ab04"
      },
      "outputs": [
        {
          "data": {
            "text/html": [
              "<div>\n",
              "<style scoped>\n",
              "    .dataframe tbody tr th:only-of-type {\n",
              "        vertical-align: middle;\n",
              "    }\n",
              "\n",
              "    .dataframe tbody tr th {\n",
              "        vertical-align: top;\n",
              "    }\n",
              "\n",
              "    .dataframe thead th {\n",
              "        text-align: right;\n",
              "    }\n",
              "</style>\n",
              "<table border=\"1\" class=\"dataframe\">\n",
              "  <thead>\n",
              "    <tr style=\"text-align: right;\">\n",
              "      <th></th>\n",
              "      <th>portfolio_ewp</th>\n",
              "      <th>retornos_ibov</th>\n",
              "      <th>cdi</th>\n",
              "    </tr>\n",
              "    <tr>\n",
              "      <th>Date</th>\n",
              "      <th></th>\n",
              "      <th></th>\n",
              "      <th></th>\n",
              "    </tr>\n",
              "  </thead>\n",
              "  <tbody>\n",
              "    <tr>\n",
              "      <th>2014-02-01</th>\n",
              "      <td>0.042203</td>\n",
              "      <td>-0.011440</td>\n",
              "      <td>0.0078</td>\n",
              "    </tr>\n",
              "    <tr>\n",
              "      <th>2014-03-01</th>\n",
              "      <td>0.060588</td>\n",
              "      <td>0.070519</td>\n",
              "      <td>0.0076</td>\n",
              "    </tr>\n",
              "    <tr>\n",
              "      <th>2014-04-01</th>\n",
              "      <td>0.043012</td>\n",
              "      <td>0.024021</td>\n",
              "      <td>0.0082</td>\n",
              "    </tr>\n",
              "    <tr>\n",
              "      <th>2014-05-01</th>\n",
              "      <td>-0.035347</td>\n",
              "      <td>-0.007496</td>\n",
              "      <td>0.0086</td>\n",
              "    </tr>\n",
              "    <tr>\n",
              "      <th>2014-06-01</th>\n",
              "      <td>0.039746</td>\n",
              "      <td>0.037647</td>\n",
              "      <td>0.0082</td>\n",
              "    </tr>\n",
              "  </tbody>\n",
              "</table>\n",
              "</div>"
            ],
            "text/plain": [
              "            portfolio_ewp  retornos_ibov     cdi\n",
              "Date                                            \n",
              "2014-02-01       0.042203      -0.011440  0.0078\n",
              "2014-03-01       0.060588       0.070519  0.0076\n",
              "2014-04-01       0.043012       0.024021  0.0082\n",
              "2014-05-01      -0.035347      -0.007496  0.0086\n",
              "2014-06-01       0.039746       0.037647  0.0082"
            ]
          },
          "execution_count": 14,
          "metadata": {},
          "output_type": "execute_result"
        }
      ],
      "source": [
        "# Junta os dados\n",
        "portfolio = (\n",
        "            portfolio_returns_ewp\n",
        "            .merge(returns_rf, left_index = True, right_index = True)\n",
        "            )\n",
        "\n",
        "portfolio.head()"
      ]
    },
    {
      "cell_type": "markdown",
      "metadata": {
        "id": "hxA9ZXk_ulA7"
      },
      "source": [
        "# Excesso de Retorno"
      ]
    },
    {
      "cell_type": "code",
      "execution_count": 15,
      "metadata": {
        "colab": {
          "base_uri": "https://localhost:8080/",
          "height": 238
        },
        "id": "nxIwlMAKuoz8",
        "outputId": "7d7e8feb-92f4-4db1-9337-a4555625c85b"
      },
      "outputs": [
        {
          "data": {
            "text/html": [
              "<div>\n",
              "<style scoped>\n",
              "    .dataframe tbody tr th:only-of-type {\n",
              "        vertical-align: middle;\n",
              "    }\n",
              "\n",
              "    .dataframe tbody tr th {\n",
              "        vertical-align: top;\n",
              "    }\n",
              "\n",
              "    .dataframe thead th {\n",
              "        text-align: right;\n",
              "    }\n",
              "</style>\n",
              "<table border=\"1\" class=\"dataframe\">\n",
              "  <thead>\n",
              "    <tr style=\"text-align: right;\">\n",
              "      <th></th>\n",
              "      <th>portfolio_ewp</th>\n",
              "      <th>retornos_ibov</th>\n",
              "      <th>cdi</th>\n",
              "      <th>excesso_retorno</th>\n",
              "      <th>excesso_ibovespa</th>\n",
              "    </tr>\n",
              "    <tr>\n",
              "      <th>Date</th>\n",
              "      <th></th>\n",
              "      <th></th>\n",
              "      <th></th>\n",
              "      <th></th>\n",
              "      <th></th>\n",
              "    </tr>\n",
              "  </thead>\n",
              "  <tbody>\n",
              "    <tr>\n",
              "      <th>2014-02-01</th>\n",
              "      <td>0.042203</td>\n",
              "      <td>-0.011440</td>\n",
              "      <td>0.0078</td>\n",
              "      <td>0.034403</td>\n",
              "      <td>-0.019240</td>\n",
              "    </tr>\n",
              "    <tr>\n",
              "      <th>2014-03-01</th>\n",
              "      <td>0.060588</td>\n",
              "      <td>0.070519</td>\n",
              "      <td>0.0076</td>\n",
              "      <td>0.052988</td>\n",
              "      <td>0.062919</td>\n",
              "    </tr>\n",
              "    <tr>\n",
              "      <th>2014-04-01</th>\n",
              "      <td>0.043012</td>\n",
              "      <td>0.024021</td>\n",
              "      <td>0.0082</td>\n",
              "      <td>0.034812</td>\n",
              "      <td>0.015821</td>\n",
              "    </tr>\n",
              "    <tr>\n",
              "      <th>2014-05-01</th>\n",
              "      <td>-0.035347</td>\n",
              "      <td>-0.007496</td>\n",
              "      <td>0.0086</td>\n",
              "      <td>-0.043947</td>\n",
              "      <td>-0.016096</td>\n",
              "    </tr>\n",
              "    <tr>\n",
              "      <th>2014-06-01</th>\n",
              "      <td>0.039746</td>\n",
              "      <td>0.037647</td>\n",
              "      <td>0.0082</td>\n",
              "      <td>0.031546</td>\n",
              "      <td>0.029447</td>\n",
              "    </tr>\n",
              "  </tbody>\n",
              "</table>\n",
              "</div>"
            ],
            "text/plain": [
              "            portfolio_ewp  retornos_ibov     cdi  excesso_retorno  \\\n",
              "Date                                                                \n",
              "2014-02-01       0.042203      -0.011440  0.0078         0.034403   \n",
              "2014-03-01       0.060588       0.070519  0.0076         0.052988   \n",
              "2014-04-01       0.043012       0.024021  0.0082         0.034812   \n",
              "2014-05-01      -0.035347      -0.007496  0.0086        -0.043947   \n",
              "2014-06-01       0.039746       0.037647  0.0082         0.031546   \n",
              "\n",
              "            excesso_ibovespa  \n",
              "Date                          \n",
              "2014-02-01         -0.019240  \n",
              "2014-03-01          0.062919  \n",
              "2014-04-01          0.015821  \n",
              "2014-05-01         -0.016096  \n",
              "2014-06-01          0.029447  "
            ]
          },
          "execution_count": 15,
          "metadata": {},
          "output_type": "execute_result"
        }
      ],
      "source": [
        "# Calcula o excesso de retorno do portfólio\n",
        "portfolio['excesso_retorno'] = portfolio['portfolio_ewp'] - portfolio['cdi']\n",
        "\n",
        "# Calcula o excesso de retorno do mercado\n",
        "portfolio['excesso_ibovespa'] = portfolio['retornos_ibov'] - portfolio['cdi']\n",
        "\n",
        "portfolio.head()"
      ]
    },
    {
      "cell_type": "markdown",
      "metadata": {
        "id": "D6J8Y5j0r_2b"
      },
      "source": [
        "# Regressão Linear"
      ]
    },
    {
      "cell_type": "code",
      "execution_count": 16,
      "metadata": {
        "colab": {
          "base_uri": "https://localhost:8080/"
        },
        "id": "fenQbk6fv1FT",
        "outputId": "3d00913c-7fae-4b7a-d04c-ad0b27d94464"
      },
      "outputs": [
        {
          "name": "stdout",
          "output_type": "stream",
          "text": [
            "====================================================================================\n",
            "                       coef    std err          t      P>|t|      [0.025      0.975]\n",
            "------------------------------------------------------------------------------------\n",
            "Intercept            0.0065      0.003      2.511      0.013       0.001       0.012\n",
            "excesso_ibovespa     0.9166      0.039     23.241      0.000       0.839       0.995\n",
            "====================================================================================\n"
          ]
        }
      ],
      "source": [
        "# Cria um modelo de regressão linear via MQO\n",
        "model_fit = (smf.ols(\n",
        "    formula = \"excesso_retorno ~ excesso_ibovespa\", # fórmula\n",
        "    data = portfolio) # dados\n",
        "  .fit() # realiza o ajuste\n",
        ")\n",
        "\n",
        "# Verifica o resultado do modelo\n",
        "model_fit_coefs = model_fit.summary(slim = True).tables[1]\n",
        "print(model_fit_coefs)"
      ]
    },
    {
      "cell_type": "markdown",
      "metadata": {
        "id": "Efgy-sWfsChC"
      },
      "source": [
        "# Gráfico de Dispersão"
      ]
    },
    {
      "cell_type": "code",
      "execution_count": 18,
      "metadata": {
        "colab": {
          "base_uri": "https://localhost:8080/",
          "height": 514
        },
        "id": "XtYBOLPJw9ZU",
        "outputId": "670bedc2-08cd-4960-e060-d44042099d69"
      },
      "outputs": [
        {
          "data": {
            "image/png": "[encoded data removed]",
            "text/plain": [
              "<Figure size 640x480 with 1 Axes>"
            ]
          },
          "metadata": {
            "needs_background": "light"
          },
          "output_type": "display_data"
        },
        {
          "data": {
            "text/plain": [
              "<ggplot: (147507847677)>"
            ]
          },
          "execution_count": 18,
          "metadata": {},
          "output_type": "execute_result"
        }
      ],
      "source": [
        "# Cria um gráfico de dispersão com reta de regressão\n",
        "(ggplot(portfolio, aes(x = 'excesso_ibovespa', y = 'excesso_retorno'))\n",
        " + geom_point()\n",
        " + stat_smooth(method = 'lm', color = 'blue')\n",
        " + labs(title = 'Relação entre Ibovespa x Portfólio Teórico', x = 'Excesso de Retorno do Ibovespa', y = 'Excesso de Retorno do Portfólio')\n",
        " + theme_minimal())"
      ]
    },
    {
      "cell_type": "markdown",
      "metadata": {
        "id": "qBhmhVUZsJDD"
      },
      "source": [
        "# Beta Móvel"
      ]
    },
    {
      "cell_type": "code",
      "execution_count": 19,
      "metadata": {
        "id": "BLV6cU-xzIb7"
      },
      "outputs": [],
      "source": [
        "# Cria função para estimar o beta móvel\n",
        "def roll_capm_estimation(data, window_size, min_obs):\n",
        "\n",
        "    result = (RollingOLS.from_formula(\n",
        "      formula = \"excesso_retorno ~ excesso_ibovespa\",\n",
        "      data = data,\n",
        "      window = window_size,\n",
        "      min_nobs = min_obs\n",
        "      )\n",
        "      .fit()\n",
        "      .params[\"excesso_ibovespa\"]\n",
        "    )\n",
        "\n",
        "    result.index = data.index\n",
        "    result = pd.DataFrame(result).rename({'excesso_ibovespa' : 'beta'}, axis = 1)\n",
        "    return result"
      ]
    },
    {
      "cell_type": "code",
      "execution_count": 20,
      "metadata": {
        "id": "N437m9MBz4CD"
      },
      "outputs": [],
      "source": [
        "# Estima o beta móvel em janelas de 60 meses\n",
        "beta = roll_capm_estimation(data = portfolio, window_size = 60, min_obs = 48)"
      ]
    },
    {
      "cell_type": "code",
      "execution_count": 21,
      "metadata": {
        "colab": {
          "base_uri": "https://localhost:8080/",
          "height": 1000
        },
        "id": "RToiOAUw5D-M",
        "outputId": "796bbb0e-7773-4d3a-c1d0-9648b2a49276"
      },
      "outputs": [
        {
          "data": {
            "text/html": [
              "<div>\n",
              "<style scoped>\n",
              "    .dataframe tbody tr th:only-of-type {\n",
              "        vertical-align: middle;\n",
              "    }\n",
              "\n",
              "    .dataframe tbody tr th {\n",
              "        vertical-align: top;\n",
              "    }\n",
              "\n",
              "    .dataframe thead th {\n",
              "        text-align: right;\n",
              "    }\n",
              "</style>\n",
              "<table border=\"1\" class=\"dataframe\">\n",
              "  <thead>\n",
              "    <tr style=\"text-align: right;\">\n",
              "      <th></th>\n",
              "      <th>Date</th>\n",
              "      <th>beta</th>\n",
              "    </tr>\n",
              "  </thead>\n",
              "  <tbody>\n",
              "    <tr>\n",
              "      <th>59</th>\n",
              "      <td>2019-01-01</td>\n",
              "      <td>1.005189</td>\n",
              "    </tr>\n",
              "    <tr>\n",
              "      <th>60</th>\n",
              "      <td>2019-02-01</td>\n",
              "      <td>1.012004</td>\n",
              "    </tr>\n",
              "    <tr>\n",
              "      <th>61</th>\n",
              "      <td>2019-03-01</td>\n",
              "      <td>1.015656</td>\n",
              "    </tr>\n",
              "    <tr>\n",
              "      <th>62</th>\n",
              "      <td>2019-04-01</td>\n",
              "      <td>1.014990</td>\n",
              "    </tr>\n",
              "    <tr>\n",
              "      <th>63</th>\n",
              "      <td>2019-05-01</td>\n",
              "      <td>1.012012</td>\n",
              "    </tr>\n",
              "    <tr>\n",
              "      <th>...</th>\n",
              "      <td>...</td>\n",
              "      <td>...</td>\n",
              "    </tr>\n",
              "    <tr>\n",
              "      <th>119</th>\n",
              "      <td>2024-01-01</td>\n",
              "      <td>0.843708</td>\n",
              "    </tr>\n",
              "    <tr>\n",
              "      <th>120</th>\n",
              "      <td>2024-02-01</td>\n",
              "      <td>0.842044</td>\n",
              "    </tr>\n",
              "    <tr>\n",
              "      <th>121</th>\n",
              "      <td>2024-03-01</td>\n",
              "      <td>0.841701</td>\n",
              "    </tr>\n",
              "    <tr>\n",
              "      <th>122</th>\n",
              "      <td>2024-04-01</td>\n",
              "      <td>0.840603</td>\n",
              "    </tr>\n",
              "    <tr>\n",
              "      <th>123</th>\n",
              "      <td>2024-05-01</td>\n",
              "      <td>0.840178</td>\n",
              "    </tr>\n",
              "  </tbody>\n",
              "</table>\n",
              "<p>65 rows × 2 columns</p>\n",
              "</div>"
            ],
            "text/plain": [
              "          Date      beta\n",
              "59  2019-01-01  1.005189\n",
              "60  2019-02-01  1.012004\n",
              "61  2019-03-01  1.015656\n",
              "62  2019-04-01  1.014990\n",
              "63  2019-05-01  1.012012\n",
              "..         ...       ...\n",
              "119 2024-01-01  0.843708\n",
              "120 2024-02-01  0.842044\n",
              "121 2024-03-01  0.841701\n",
              "122 2024-04-01  0.840603\n",
              "123 2024-05-01  0.840178\n",
              "\n",
              "[65 rows x 2 columns]"
            ]
          },
          "execution_count": 21,
          "metadata": {},
          "output_type": "execute_result"
        }
      ],
      "source": [
        "# Realiza tratamento sobre o data frame\n",
        "beta.reset_index(inplace = True)\n",
        "beta.dropna(inplace = True)\n",
        "\n",
        "beta"
      ]
    },
    {
      "cell_type": "code",
      "execution_count": 28,
      "metadata": {},
      "outputs": [
        {
          "data": {
            "image/png": "[encoded data removed]",
            "text/plain": [
              "<Figure size 1200x600 with 1 Axes>"
            ]
          },
          "metadata": {},
          "output_type": "display_data"
        }
      ],
      "source": [
        "# Setup plot size.\n",
        "fig, ax = plt.subplots(figsize=(12, 6))\n",
        "\n",
        "# Loop through country names and plot each one with a different color.\n",
        "ax.plot(beta[\"Date\"],\n",
        "        beta[\"beta\"],\n",
        "        alpha=0.8,\n",
        "        linewidth=3,\n",
        "        label= \"IPCA Sazonalmnete Ajustado\")  # Add label for legend\n",
        "\n",
        "# Add legend below the plot.\n",
        "ax.legend(loc='upper center', bbox_to_anchor=(0.5, -0.1), shadow=True)\n",
        "\n",
        "######### Estética do Gráfico #########\n",
        "# Remove splines. Can be done one at a time or can slice with a list.\n",
        "ax.spines[['top', 'right', 'left']].set_visible(False)\n",
        "\n",
        "\n",
        "ax.yaxis.grid(True, linestyle='--', which='major', color='gray', alpha=0.5)  # Add grid lines for y-axis\n",
        "\n",
        "ax.yaxis.set_tick_params(pad=-2, labeltop=True, labelbottom=False, bottom=False, labelsize=11)\n",
        "\n",
        "# Add in line and tag\n",
        "ax.plot([0.12, .9], [.98, .98], transform=fig.transFigure, clip_on=False, color='#E3120B', linewidth=.6)\n",
        "ax.add_patch(plt.Rectangle((0.12, .98), 0.04, -0.02, facecolor='#E3120B', transform=fig.transFigure, clip_on=False, linewidth=0))\n",
        "\n",
        "# Add in title and subtitle\n",
        "ax.text(x=0.12, y=.92, s=\"Beta mensal estimado\", transform=fig.transFigure, ha='left', fontsize=13, weight='bold', alpha=.8)\n",
        "ax.text(x=0.12, y=.89, s=\"Beta do portfólio teórico estimado\", transform=fig.transFigure, ha='left', fontsize=11, alpha=.8)\n",
        "\n",
        "# Set source text\n",
        "ax.text(x=0.12, y=0.01, s=\"\"\"Elaborado: Pedro Marino\"\"\", transform=fig.transFigure, ha='left', fontsize=9, alpha=.7)\n",
        "\n",
        "plt.show()"
      ]
    }
  ],
  "metadata": {
    "colab": {
      "provenance": [],
      "toc_visible": true
    },
    "kernelspec": {
      "display_name": "Python 3",
      "name": "python3"
    },
    "language_info": {
      "codemirror_mode": {
        "name": "ipython",
        "version": 3
      },
      "file_extension": ".py",
      "mimetype": "text/x-python",
      "name": "python",
      "nbconvert_exporter": "python",
      "pygments_lexer": "ipython3",
      "version": "3.9.12"
    }
  },
  "nbformat": 4,
  "nbformat_minor": 0
}
